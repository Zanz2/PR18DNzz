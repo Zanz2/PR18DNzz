{
 "cells": [
  {
   "cell_type": "markdown",
   "metadata": {},
   "source": [
    "### Podatkovno rudarjenje, 1. domača naloga, 9. 3. 2018\n",
    "\n",
    "# Priprava podatkov, osnovne statistike in vizualizacija"
   ]
  },
  {
   "cell_type": "markdown",
   "metadata": {},
   "source": [
    "**Ime: Žan Žagar Vpisna_Številka: 63160340 **"
   ]
  },
  {
   "cell_type": "markdown",
   "metadata": {},
   "source": [
    "Neizogiben del vsakega projekta na področju podatkovnega rudarjenja je iskanje,\n",
    "urejanje in priprava podatkov. V tej nalogi boste spoznali primer podatkovne\n",
    "zbirke in uporabili postopke za pretvorbo podatkov v ustrezno obliko ter pregled in prikaz\n",
    "osnovnih statistik.\n",
    "\n",
    "### Oddaja\n",
    "Zapišite kodo in odgovore v spodnje celice. Tako pripravljen notebook shranite v vaš repozitorij za domače naloge na *github*. V učilnici oddajte le povezavo do notebooka v vašem repozitoriju, n.pr.: https://github.com/vašeuporabniškoime/PR18DNvz/dn1/poročilo.ipynb.\n",
    "\n",
    "Za bolj podrobna navodila, glejte razdelek \"Domače naloge\" v [spletni učilnici predmeta](https://ucilnica.fri.uni-lj.si/course/view.php?id=37)."
   ]
  },
  {
   "cell_type": "markdown",
   "metadata": {},
   "source": [
    "## Podatki\n",
    "\n",
    "V nalogi boste pregledali in pripravili podatke gledanosti Hollywoodskih filmov\n",
    "zbirke [MovieLens](https://grouplens.org/datasets/movielens/) v obdobju **1995-2016**. Podatke naložite iz [spletne učilnice](https://ucilnica.fri.uni-lj.si/mod/resource/view.php?id=19230).\n",
    "\n",
    "Iste podatke boste uporabili v vseh domačih nalogah, zato jih dodobra spoznajte. Gre za podatkovno zbirko za\n",
    "vrednotenje priporočilnih sistemov, ki vsebuje gledalce ter njihove ocene za posamezni film na lestvici 1 do 5.  \n",
    "Poleg osnovne matrike uporabnikov in ocen vsebuje še dodatne podatke o filmih (npr. žanr, datum, oznake,\n",
    "igralci).\n",
    "\n",
    "Podatkovna zbirka vsebuje naslednje datoteke:\n",
    "\n",
    "* ratings.csv: podatki o uporabnikih in ocenah,\n",
    "* movies.csv: podatki o žanrih filmov,\n",
    "* cast.csv: podatki o igralcih,\n",
    "* tags.csv: podatki o oznakah (ang. \\emph{tags}),\n",
    "* links.csv: povezave na sorodne podatkovne zbirke.\n",
    "\n",
    "\n",
    "Pred pričetkom reševanja naloge si dobro oglejte podatke in datoteko **README.txt**. Podrobnosti o zbirki lahko preberete na [spletni strani](http://files.grouplens.org/datasets/movielens/ml-latest-small-README.html).\n",
    "\n",
    "Pripravite metode za nalaganje podatkov v ustrezne podatkovne strukture. Te vam bodo prišle\n",
    "prav tudi pri nadaljnjih nalogah.\n",
    "Bodite pozorni na velikost podatkov."
   ]
  },
  {
   "cell_type": "code",
   "execution_count": 118,
   "metadata": {},
   "outputs": [],
   "source": [
    "# tu zapišite kodo za branje datotek in pripravo ustreznih matrik (in drugih struktur) podatkov,\n",
    "# ki jih boste uporabi pri odgovarjanju na spodnja vprašanja\n",
    "% matplotlib inline\n",
    "import matplotlib.image as mpimg\n",
    "import matplotlib.pyplot as plt\n",
    "from Orange.data.filter import SameValue\n",
    "from Orange.data import Table\n",
    "import numpy as np\n",
    "from csv import DictReader\n",
    "\n",
    "ratings = DictReader(open('ml-latest-small/ratings.csv', 'rt', encoding='utf-8'))\n",
    "tags = DictReader(open('ml-latest-small/tags.csv', 'rt', encoding='utf-8'))\n",
    "movies = DictReader(open('ml-latest-small/movies.csv', 'rt', encoding='utf-8'))\n",
    "cast = DictReader(open('ml-latest-small/cast.csv', 'rt', encoding='utf-8'))\n",
    "links = DictReader(open('ml-latest-small/links.csv', 'rt', encoding='utf-8'))\n",
    "movies_orange = Table(\"ml-latest-small/movies.csv\")\n",
    "ratings_orange = Table(\"ml-latest-small/ratings.csv\")\n",
    "cast_orange = Table(\"ml-latest-small/cast.csv\")"
   ]
  },
  {
   "cell_type": "code",
   "execution_count": 119,
   "metadata": {},
   "outputs": [
    {
     "name": "stdout",
     "output_type": "stream",
     "text": [
      "[movieId] {title, genres}\n",
      "[userId, movieId, rating, timestamp]\n",
      "[movieId] {cast}\n"
     ]
    }
   ],
   "source": [
    "print(movies_orange.domain)\n",
    "print(ratings_orange.domain)\n",
    "print(cast_orange.domain)"
   ]
  },
  {
   "cell_type": "markdown",
   "metadata": {},
   "source": [
    "## Vprašanja\n",
    "\n",
    "Glavni namen podatkovnega rudarjenja je *odkrivanje znanj iz podatkov*,\n",
    "torej odgovarjanje na vprašanja z uporabo računskih postopkov.\n",
    "\n",
    "Z uporabo principov, ki ste jih spoznali na vajah in predavanjih, odgovorite na\n",
    "spodnja vprašanja. Pri vsakem vprašanju dobro premislite, na kakšen način boste\n",
    "najbolje podali, prikazali oz. utemeljili odgovor. Bistven del so odgovori na\n",
    "vprašanja in ne implementacija vaše rešitve."
   ]
  },
  {
   "cell_type": "markdown",
   "metadata": {},
   "source": [
    "### 1. vprašanje (15%):\n",
    "Kateri filmi so v povprečju najbolje ocenjeni?  Pripravite seznam\n",
    "filmov ter njihovih povprečnih ocen in izpišite po 10 filmov z vrha seznama.\n",
    "Opazite pri takem ocenjevanju kakšno težavo? Kako bi jo lahko rešili? Kakšni so\n",
    "rezultati tedaj?"
   ]
  },
  {
   "cell_type": "code",
   "execution_count": 3,
   "metadata": {},
   "outputs": [],
   "source": [
    "# kodo lahko razdelite v več celic\n",
    "# Putting movie titles and their average rating into a data structure\n",
    "average_movie_ratings = []\n",
    "for element in movies_orange:\n",
    "    # print(element[\"movieId\"])\n",
    "    ratings_with_id_of_this_movie_filt = SameValue(ratings_orange.domain['movieId'], element[\"movieId\"])\n",
    "    ratings_of_this_movie_subset = ratings_with_id_of_this_movie_filt(ratings_orange)\n",
    "    movie_title = str(element[\"title\"])\n",
    "    rating_sum = 0\n",
    "    rating_count = 0\n",
    "    for rating in ratings_of_this_movie_subset:\n",
    "        rating_sum += float(rating[2]) # domain index of rating is 2\n",
    "        rating_count += 1\n",
    "    if rating_count != 0:\n",
    "        avg_rating = str(rating_sum / rating_count)\n",
    "    else:\n",
    "        avg_rating = 0\n",
    "    average_movie_ratings.append([movie_title,rating_count,avg_rating])\n",
    "    # print(average_movie_ratings)\n",
    " "
   ]
  },
  {
   "cell_type": "code",
   "execution_count": 4,
   "metadata": {},
   "outputs": [],
   "source": [
    "# Sorting data structure from highest to lowest rating\n",
    "average_movie_ratings_sorted = sorted(average_movie_ratings, key=lambda movie: float(movie[2]), reverse=True)\n",
    "#print(average_movie_ratings_sorted)"
   ]
  },
  {
   "cell_type": "code",
   "execution_count": 5,
   "metadata": {},
   "outputs": [
    {
     "name": "stdout",
     "output_type": "stream",
     "text": [
      "1. Movie is Lamerica (1994) with a rating of 5.0 and 1 votes.\n",
      "2. Movie is Mute Witness (1994) with a rating of 5.0 and 1 votes.\n",
      "3. Movie is Picture Bride (Bijo photo) (1994) with a rating of 5.0 and 1 votes.\n",
      "4. Movie is Red Firecracker, Green Firecracker (Pao Da Shuang Deng) (1994) with a rating of 5.0 and 3 votes.\n",
      "5. Movie is Paris, France (1993) with a rating of 5.0 and 1 votes.\n",
      "6. Movie is Faces (1968) with a rating of 5.0 and 1 votes.\n",
      "7. Movie is Maya Lin: A Strong Clear Vision (1994) with a rating of 5.0 and 2 votes.\n",
      "8. Movie is Heavy (1995) with a rating of 5.0 and 1 votes.\n",
      "9. Movie is Death in the Garden (Mort en ce jardin, La) (1956) with a rating of 5.0 and 1 votes.\n",
      "10. Movie is Day the Sun Turned Cold, The (Tianguo niezi) (1994) with a rating of 5.0 and 1 votes.\n"
     ]
    }
   ],
   "source": [
    "# Top 10 ocenjenih filmov\n",
    "count = 1\n",
    "for movie in average_movie_ratings_sorted:\n",
    "    if count == 11:\n",
    "        break\n",
    "    print(str(count)+\". Movie is \"+ str(movie[0]) + \" with a rating of \" + str(movie[2])+ \" and \"+ str(movie[1])+ \" votes.\")\n",
    "    count += 1"
   ]
  },
  {
   "cell_type": "markdown",
   "metadata": {},
   "source": [
    "Odgovor: **Opazim da je težava pri filmih z nizkim številom ratingov, kajti ti imajo ogromno težo na povprečen rating filma **\n",
    "\n",
    "**Najbolj enostavna rešitev, in ta ki mi sprva pade na pamet je da bi preprosto upošteval samo filme z rating countom > neka relativno velika cifra **"
   ]
  },
  {
   "cell_type": "code",
   "execution_count": 6,
   "metadata": {},
   "outputs": [
    {
     "name": "stdout",
     "output_type": "stream",
     "text": [
      "1. Movie is Godfather, The (1972) with a rating of 4.4875 and 200 votes.\n",
      "2. Movie is Shawshank Redemption, The (1994) with a rating of 4.487138263665595 and 311 votes.\n",
      "3. Movie is Maltese Falcon, The (1941) with a rating of 4.387096774193548 and 62 votes.\n",
      "4. Movie is Godfather: Part II, The (1974) with a rating of 4.385185185185185 and 135 votes.\n",
      "5. Movie is Usual Suspects, The (1995) with a rating of 4.370646766169155 and 201 votes.\n",
      "6. Movie is Chinatown (1974) with a rating of 4.3355263157894735 and 76 votes.\n",
      "7. Movie is Rear Window (1954) with a rating of 4.315217391304348 and 92 votes.\n",
      "8. Movie is 12 Angry Men (1957) with a rating of 4.304054054054054 and 74 votes.\n",
      "9. Movie is Schindler's List (1993) with a rating of 4.30327868852459 and 244 votes.\n",
      "10. Movie is City of God (Cidade de Deus) (2002) with a rating of 4.297101449275362 and 69 votes.\n"
     ]
    }
   ],
   "source": [
    "# Implementacija zgornje rešitve\n",
    "count = 1\n",
    "for movie in average_movie_ratings_sorted:\n",
    "    if count == 11:\n",
    "        break\n",
    "    if movie[1] > 50:\n",
    "\n",
    " # Samo filmi z več kot 50 ratingov\n",
    "        print(str(count)+\". Movie is \"+ str(movie[0]) + \" with a rating of \" + str(movie[2])+ \" and \"+ str(movie[1])+ \" votes.\")\n",
    "        count += 1"
   ]
  },
  {
   "cell_type": "markdown",
   "metadata": {},
   "source": [
    "** Sedaj vidim da so rezultati bolj realni in pravilni (filmi za katere sem že slišal v top 10), ki imajo tudi veliko ogledov **"
   ]
  },
  {
   "cell_type": "markdown",
   "metadata": {},
   "source": [
    "### 2. vprašanje (15%):\n",
    "Posamezni film pripada enemu ali več žanrom. \n",
    "Koliko je vseh žanrov? Prikaži porazdelitev žanrov z uporabo ustrezne\n",
    "vizualizacije."
   ]
  },
  {
   "cell_type": "code",
   "execution_count": 7,
   "metadata": {},
   "outputs": [],
   "source": [
    "# kodo lahko razdelite v več celic\n",
    "# Koda doda vsak obstoječ žanr v seznam žanrov\n",
    "all_genres_list=[]\n",
    "for movie in movies_orange:\n",
    "    genres_list = str(movie[\"genres\"]).split(\"|\")\n",
    "    for genre in genres_list:\n",
    "        if (genre not in all_genres_list):\n",
    "            all_genres_list.append(genre)"
   ]
  },
  {
   "cell_type": "code",
   "execution_count": 8,
   "metadata": {},
   "outputs": [
    {
     "name": "stdout",
     "output_type": "stream",
     "text": [
      "['Adventure', 'Animation', 'Children', 'Comedy', 'Fantasy', 'Romance', 'Drama', 'Action', 'Crime', 'Thriller', 'Horror', 'Mystery', 'Sci-Fi', 'Documentary', 'IMAX', 'War', 'Musical', 'Western', 'Film-Noir', '(no genres listed)']\n",
      "\n",
      "The number of genres is 20\n"
     ]
    }
   ],
   "source": [
    "print(all_genres_list)\n",
    "print(\"\")\n",
    "print(\"The number of genres is \"+str(len(all_genres_list)))"
   ]
  },
  {
   "cell_type": "markdown",
   "metadata": {},
   "source": [
    "Odgovor: **Število žanrov je 20** (vključuje opcijo da je film brez žanra kot svoj žanr)"
   ]
  },
  {
   "cell_type": "code",
   "execution_count": 9,
   "metadata": {},
   "outputs": [],
   "source": [
    "# Naredil sem seznam od prej in slovar z vrednosti ponovitev ter število vseh žanrov\n",
    "all_genres_list=[]\n",
    "all_genres_count_hash ={}\n",
    "total_genre_count = 0\n",
    "for movie in movies_orange:\n",
    "    genres_list = str(movie[\"genres\"]).split(\"|\")\n",
    "    for genre in genres_list:\n",
    "        if (genre not in all_genres_list):\n",
    "            all_genres_list.append(genre)\n",
    "        if (genre in all_genres_count_hash):\n",
    "            all_genres_count_hash[genre] += 1\n",
    "        else:\n",
    "            all_genres_count_hash[genre] = 1\n",
    "        total_genre_count += 1\n",
    "        "
   ]
  },
  {
   "cell_type": "code",
   "execution_count": 10,
   "metadata": {},
   "outputs": [
    {
     "name": "stdout",
     "output_type": "stream",
     "text": [
      "[['Adventure', 0.054916420845624384], ['Animation', 0.021976401179941003], ['Children', 0.028662733529990166], ['Comedy', 0.16297935103244837], ['Fantasy', 0.03215339233038348], ['Romance', 0.07595870206489676], ['Drama', 0.21460176991150443], ['Action', 0.07595870206489676], ['Crime', 0.05408062930186824], ['Thriller', 0.08500491642084562], ['Horror', 0.04311701081612586], ['Mystery', 0.026696165191740413], ['Sci-Fi', 0.03893805309734513], ['Documentary', 0.024336283185840708], ['IMAX', 0.00752212389380531], ['War', 0.018043264503441493], ['Musical', 0.019370698131760077], ['Western', 0.008259587020648967], ['Film-Noir', 0.006538839724680432], ['(no genres listed)', 0.0008849557522123894]]\n"
     ]
    }
   ],
   "source": [
    "# Pripravljam podatke\n",
    "#np.matrix()\n",
    "genre_frequency_list = []\n",
    "\n",
    "for genre,frequency in all_genres_count_hash.items():\n",
    "    relative_frequency = frequency/total_genre_count\n",
    "    genre_frequency_list.append([genre,relative_frequency])\n",
    "#print(genre_frequency_list)\n",
    "genre_frequency_matrix = genre_frequency_list\n",
    "print(genre_frequency_matrix)"
   ]
  },
  {
   "cell_type": "code",
   "execution_count": 11,
   "metadata": {},
   "outputs": [
    {
     "data": {
      "image/png": "[encoded data removed]",
      "text/plain": [
       "<Figure size 432x288 with 1 Axes>"
      ]
     },
     "metadata": {},
     "output_type": "display_data"
    }
   ],
   "source": [
    "\n",
    "#print(genre_frequency_matrix[:, 0])\n",
    "#ylabel = np.linspace(0, 1, 10)\n",
    "frequencies = []\n",
    "titles = []\n",
    "for element,value in genre_frequency_matrix:\n",
    "    frequencies.append(value)\n",
    "    titles.append(element)\n",
    "pyplot1 = plt\n",
    "pyplot1.figure()\n",
    "xlen= range(len(titles))\n",
    "ylabel = frequencies\n",
    "#plt.set_ylabel(\"Frekvenčna porazdelitev\")\n",
    "pyplot1.bar(titles,ylabel,align=\"center\", width=0.4, alpha=0.5)\n",
    "pyplot1.xticks(rotation=90)\n",
    "pyplot1.tight_layout()\n",
    "#plt.set_title(\"Frekvenca žanrov\")\n",
    "pyplot1.show()\n",
    "\n",
    "\n"
   ]
  },
  {
   "cell_type": "markdown",
   "metadata": {},
   "source": [
    "Odgovor: **Frekvenčna porazdelitev žanrov, vidimo da je največ dram**"
   ]
  },
  {
   "cell_type": "markdown",
   "metadata": {},
   "source": [
    "### 3. vprašanje (20%):\n",
    "Število ocen (ogledov) se za posamezni film razlikuje. Ali\n",
    "obstaja povezava med gledanostjo in povprečno oceno filma? Opišite postopek, ki\n",
    "ste ga uporabili pri odgovarjanju na vprašanje."
   ]
  },
  {
   "cell_type": "code",
   "execution_count": 41,
   "metadata": {},
   "outputs": [
    {
     "name": "stdout",
     "output_type": "stream",
     "text": [
      "Success\n"
     ]
    }
   ],
   "source": [
    "# Preuredil prejšno funkcijo\n",
    "rating_count_list = []\n",
    "avg_rating_list = []\n",
    "\n",
    "\n",
    "average_movie_ratings = []\n",
    "for element in movies_orange:\n",
    "    # print(element[\"movieId\"])\n",
    "    ratings_with_id_of_this_movie_filt = SameValue(ratings_orange.domain['movieId'], element[\"movieId\"])\n",
    "    ratings_of_this_movie_subset = ratings_with_id_of_this_movie_filt(ratings_orange)\n",
    "    # movie_title = str(element[\"title\"])\n",
    "    rating_sum = 0\n",
    "    rating_count = 0\n",
    "    for rating in ratings_of_this_movie_subset:\n",
    "        rating_sum += float(rating[2]) # domain index of rating is 2\n",
    "        rating_count += 1\n",
    "    if(rating_count != 0):\n",
    "        avg_rating = rating_sum / rating_count\n",
    "    else:\n",
    "        avg_rating = 0\n",
    "    # average_movie_ratings.append([movie_title,rating_count,avg_rating])\n",
    "    \n",
    "    avg_rating_list.append(avg_rating)\n",
    "    rating_count_list.append(rating_count)\n",
    "    \n",
    "    # print(average_movie_ratings)\n",
    "print(\"Success\")\n",
    "# print(len(rating_count_list))\n",
    "# print(len(avg_rating_list))"
   ]
  },
  {
   "cell_type": "code",
   "execution_count": 43,
   "metadata": {},
   "outputs": [
    {
     "name": "stdout",
     "output_type": "stream",
     "text": [
      "Success\n"
     ]
    },
    {
     "data": {
      "image/png": "[encoded data removed]",
      "text/plain": [
       "<Figure size 504x216 with 1 Axes>"
      ]
     },
     "metadata": {},
     "output_type": "display_data"
    }
   ],
   "source": [
    "fig, axes = plt.subplots(figsize=(7, 3))\n",
    "axes.scatter(avg_rating_list, rating_count_list) \n",
    "axes.set_xlabel('Average rating')\n",
    "axes.set_ylabel('Number of views (ratings)')\n",
    "\n",
    "print(\"Success\")"
   ]
  },
  {
   "cell_type": "markdown",
   "metadata": {},
   "source": [
    "Odgovor: **Iz grafa lahko vidimo da je neka povezava med veliko povprečno oceno in veliko ogledov.**"
   ]
  },
  {
   "cell_type": "markdown",
   "metadata": {},
   "source": [
    "### 4. vprašanje (30%):\n",
    "Vsaka ocena je bila vnešena na določen datum (stolpec\n",
    "*timestamp*).  Ali se popularnost posameznih filmov s časom spreminja?\n",
    "Problem reši tako, da za dani film ocene razporediš po času ter v vsaku časovni\n",
    "točki izračunaš povprečje za zadnjih 30, 50, ali 100 ocen. Nariši graf, kako se\n",
    "ocena spreminja in ga prikaži za dva zanimiva primera filmov."
   ]
  },
  {
   "cell_type": "code",
   "execution_count": 108,
   "metadata": {},
   "outputs": [],
   "source": [
    "import datetime\n",
    "CONST_ID_MOVIE1 = 318 # Shawshank redemption\n",
    "CONST_ID_MOVIE2 = 50  # The usual suspects\n",
    "CONST_NUMBER_OF_PAST_RATINGS = 30 # 30, 50 or 100"
   ]
  },
  {
   "cell_type": "code",
   "execution_count": 109,
   "metadata": {},
   "outputs": [],
   "source": [
    "# nastavljam stvari\n",
    "ratings_with_id_of_this_movie_filt = SameValue(ratings_orange.domain['movieId'], CONST_ID_MOVIE1)\n",
    "ratings_of_this_movie_subset = ratings_with_id_of_this_movie_filt(ratings_orange)"
   ]
  },
  {
   "cell_type": "code",
   "execution_count": 110,
   "metadata": {},
   "outputs": [],
   "source": [
    "# Dobim prave vnose in jih uredim naraščajoče po datumu\n",
    "rating_list_movie1 = []\n",
    "\n",
    "for rating in ratings_of_this_movie_subset:\n",
    "    date = datetime.datetime.utcfromtimestamp(rating[3])\n",
    "    # print(date)\n",
    "    rating_list_movie1.append([rating[2],date])\n",
    "rating_list_movie1.sort(key=lambda rating: rating[1])\n",
    "# print(rating_list_movie1)"
   ]
  },
  {
   "cell_type": "code",
   "execution_count": 111,
   "metadata": {},
   "outputs": [],
   "source": [
    "# Vnose uredim po navodilih , povprečja gledam samo za ratinge, \n",
    "# ki imajo časovno pred sabo vsaj 30 vnosov\n",
    "# Iz tega naredim povprečja, z datumi in jih hranim v listu\n",
    "lower_bound = 0\n",
    "average_rating_list1 = []\n",
    "before_time_list1 = []\n",
    "for index,rating in enumerate(rating_list_movie1):\n",
    "    #print(rating[1])\n",
    "    #print(index)\n",
    "    if(index-CONST_NUMBER_OF_PAST_RATINGS<0):\n",
    "        lower_bound=0\n",
    "    else:\n",
    "        lower_bound=index-30\n",
    "        average_timestamp_rating = 0\n",
    "        rating_sum = 0\n",
    "        rating_count = 0\n",
    "        for another_rating in rating_list_movie1[lower_bound:index]:\n",
    "            rating_sum += float(another_rating[0]) \n",
    "            rating_count += 1\n",
    "        if rating_count >=1 :\n",
    "            average_timestamp_rating = rating_sum/rating_count\n",
    "        else:\n",
    "            average_timestamp_rating = 0\n",
    "        average_rating_list1.append(average_timestamp_rating)    \n",
    "        before_time_list1.append(rating[1])  "
   ]
  },
  {
   "cell_type": "code",
   "execution_count": 112,
   "metadata": {},
   "outputs": [
    {
     "name": "stdout",
     "output_type": "stream",
     "text": [
      "Success\n"
     ]
    },
    {
     "data": {
      "image/png": "[encoded data removed]",
      "text/plain": [
       "<Figure size 504x216 with 1 Axes>"
      ]
     },
     "metadata": {},
     "output_type": "display_data"
    }
   ],
   "source": [
    "\n",
    "# print(average_rating_list)\n",
    "fig1, axes1 = plt.subplots(figsize=(7, 3))\n",
    "axes1.plot(before_time_list1,average_rating_list1) \n",
    "axes1.set_xlabel('Povprečna ocena Shawshank redemption čez leta')\n",
    "axes1.set_ylabel('Povprečna ocena')\n",
    "\n",
    "print(\"Success\")"
   ]
  },
  {
   "cell_type": "markdown",
   "metadata": {},
   "source": [
    "**Vidimo da je povprečna ocena padla relativno veliko med letoma 2001 in 2005 ter malce po začetkom 2013**"
   ]
  },
  {
   "cell_type": "code",
   "execution_count": 113,
   "metadata": {},
   "outputs": [],
   "source": [
    "# nastavljam stvari\n",
    "ratings_with_id_of_this_movie_filt = SameValue(ratings_orange.domain['movieId'], CONST_ID_MOVIE2)\n",
    "ratings_of_this_movie_subset = ratings_with_id_of_this_movie_filt(ratings_orange)"
   ]
  },
  {
   "cell_type": "code",
   "execution_count": 114,
   "metadata": {},
   "outputs": [],
   "source": [
    "# Dobim prave vnose in jih uredim naraščajoče po datumu\n",
    "rating_list_movie2 = []\n",
    "\n",
    "for rating in ratings_of_this_movie_subset:\n",
    "    date = datetime.datetime.utcfromtimestamp(rating[3])\n",
    "    # print(date)\n",
    "    rating_list_movie2.append([rating[2],date])\n",
    "rating_list_movie2.sort(key=lambda rating: rating[1])\n",
    "# print(rating_list_movie1)"
   ]
  },
  {
   "cell_type": "code",
   "execution_count": 115,
   "metadata": {},
   "outputs": [],
   "source": [
    "# Vnose uredim po navodilih , povprečja gledam samo za ratinge, \n",
    "# ki imajo časovno pred sabo vsaj 30 vnosov\n",
    "# Iz tega naredim povprečja, z datumi in jih hranim v listu\n",
    "lower_bound = 0\n",
    "average_rating_list2 = []\n",
    "before_time_list2 = []\n",
    "for index,rating in enumerate(rating_list_movie2):\n",
    "    #print(rating[1])\n",
    "    #print(index)\n",
    "    if(index-CONST_NUMBER_OF_PAST_RATINGS<0):\n",
    "        lower_bound=0\n",
    "    else:\n",
    "        lower_bound=index-30\n",
    "        average_timestamp_rating = 0\n",
    "        rating_sum = 0\n",
    "        rating_count = 0\n",
    "        for another_rating in rating_list_movie2[lower_bound:index]:\n",
    "            rating_sum += float(another_rating[0]) \n",
    "            rating_count += 1\n",
    "        if rating_count >=1 :\n",
    "            average_timestamp_rating = rating_sum/rating_count\n",
    "        else:\n",
    "            average_timestamp_rating = 0\n",
    "        average_rating_list2.append(average_timestamp_rating)    \n",
    "        before_time_list2.append(rating[1]) "
   ]
  },
  {
   "cell_type": "code",
   "execution_count": 116,
   "metadata": {},
   "outputs": [
    {
     "name": "stdout",
     "output_type": "stream",
     "text": [
      "Success\n"
     ]
    },
    {
     "data": {
      "image/png": "[encoded data removed]",
      "text/plain": [
       "<Figure size 504x216 with 1 Axes>"
      ]
     },
     "metadata": {},
     "output_type": "display_data"
    }
   ],
   "source": [
    "# print(average_rating_list)\n",
    "fig1, axes1 = plt.subplots(figsize=(7, 3))\n",
    "axes1.plot(before_time_list2,average_rating_list2) \n",
    "axes1.set_xlabel('Povprečna ocena The usual suspects čez leta')\n",
    "axes1.set_ylabel('Povprečna ocena')\n",
    "\n",
    "print(\"Success\")"
   ]
  },
  {
   "cell_type": "markdown",
   "metadata": {},
   "source": [
    "** Vidimo da je po letu 2014 začela povprečna ocena tega filma strmo padati **"
   ]
  },
  {
   "cell_type": "markdown",
   "metadata": {},
   "source": [
    "Odgovor: **Odločil sem se prikazati to spremembo pri: Shawshank redemption (id 318) in The usual suspects (id 50)**"
   ]
  },
  {
   "cell_type": "markdown",
   "metadata": {},
   "source": [
    "### 5. vprašanje (20%):\n",
    "Kako bi ocenili popularnost posameznih igralcev? Opišite postopek\n",
    "ocenitve ter izpišite 10 najbolj popularnih igralcev."
   ]
  },
  {
   "cell_type": "code",
   "execution_count": 146,
   "metadata": {},
   "outputs": [],
   "source": [
    "# Si delam življenje lažje\n",
    "def GetMovieAverage(movie_id):\n",
    "    for element in movies_orange:\n",
    "        # print(element[\"movieId\"])\n",
    "        ratings_with_id_of_this_movie_filt = SameValue(ratings_orange.domain['movieId'], movie_id)\n",
    "        ratings_of_this_movie_subset = ratings_with_id_of_this_movie_filt(ratings_orange)\n",
    "        # movie_title = str(element[\"title\"])\n",
    "        rating_sum = 0\n",
    "        rating_count = 0\n",
    "        for rating in ratings_of_this_movie_subset:\n",
    "            rating_sum += float(rating[2]) # domain index of rating is 2\n",
    "            rating_count += 1\n",
    "        if(rating_count != 0):\n",
    "            avg_rating = rating_sum / rating_count\n",
    "        else:\n",
    "            avg_rating = 0\n",
    "        return avg_rating"
   ]
  },
  {
   "cell_type": "code",
   "execution_count": 163,
   "metadata": {},
   "outputs": [],
   "source": [
    "def ReturnPoints(average_rating):\n",
    "    if(average_rating>4):\n",
    "        return 100\n",
    "    if(average_rating>3):\n",
    "        return 10\n",
    "    if(average_rating>2):\n",
    "        return 1\n",
    "    if(average_rating>1):\n",
    "        return -10\n",
    "    if(average_rating>=0):\n",
    "        return -100\n",
    "    return -50"
   ]
  },
  {
   "cell_type": "code",
   "execution_count": 171,
   "metadata": {},
   "outputs": [
    {
     "name": "stdout",
     "output_type": "stream",
     "text": [
      "success\n"
     ]
    }
   ],
   "source": [
    "# kodo lahko razdelite v več celic\n",
    "global_actor_dict = {}\n",
    "for actors in cast_orange:\n",
    "    actors_list = str(actors[\"cast\"]).split(\"|\")\n",
    "    movies_with_this_cast_filt = SameValue(movies_orange.domain['movieId'], actors[\"movieId\"])\n",
    "    movies_with_this_cast = movies_with_this_cast_filt(movies_orange)\n",
    "    for movies in movies_with_this_cast:\n",
    "        avg_rating = GetMovieAverage(movies[\"movieId\"])\n",
    "        points = ReturnPoints(avg_rating)\n",
    "        for actor in actors_list:\n",
    "            if( actor in global_actor_dict):\n",
    "                global_actor_dict[actor] += points\n",
    "            else:\n",
    "                global_actor_dict[actor] = points\n",
    "# print(global_actor_list)\n",
    "print(\"success\")"
   ]
  },
  {
   "cell_type": "code",
   "execution_count": 177,
   "metadata": {},
   "outputs": [
    {
     "name": "stdout",
     "output_type": "stream",
     "text": [
      "success\n"
     ]
    }
   ],
   "source": [
    "output_list = []\n",
    "for actor,value in global_actor_dict.items():\n",
    "    if(actor!='' and actor!='?'):\n",
    "        output_list.append([actor,value])\n",
    "print(\"success\")"
   ]
  },
  {
   "cell_type": "code",
   "execution_count": 181,
   "metadata": {},
   "outputs": [
    {
     "name": "stdout",
     "output_type": "stream",
     "text": [
      "1. Actor is Cary Grant with a rating of 1502\n",
      "2. Actor is Harrison Ford with a rating of 1178\n",
      "3. Actor is Michael Caine with a rating of 1131\n",
      "4. Actor is Robert De Niro with a rating of 1044\n",
      "5. Actor is Alec Guinness with a rating of 1042\n",
      "6. Actor is Gregory Peck with a rating of 993\n",
      "7. Actor is Morgan Freeman with a rating of 991\n",
      "8. Actor is Paul Newman with a rating of 953\n",
      "9. Actor is Jack Nicholson with a rating of 918\n",
      "10. Actor is Dustin Hoffman with a rating of 899\n",
      "success\n"
     ]
    }
   ],
   "source": [
    "output_list.sort(key=lambda actor: actor[1],reverse=True)\n",
    "top_x = 1\n",
    "#print(output_list)\n",
    "for entry in output_list:\n",
    "    if(top_x>10):\n",
    "        break\n",
    "    print(str(top_x)+\". Actor is \"+entry[0]+\" with a rating of \"+str(entry[1]))\n",
    "    top_x+=1\n",
    "print(\"success\")\n",
    "    "
   ]
  },
  {
   "cell_type": "markdown",
   "metadata": {},
   "source": [
    "Odgovor: **Ocenil jo bi, tako da bi vsakemu igralcu dal točke, glede na oceno:\n",
    "0-1 : -50 |\n",
    "1-2 : -10 |\n",
    "2-3 : 1 |\n",
    "3-4 : 10 |\n",
    "4-5 : 50 |\n",
    "**\n",
    "Te mere bi seveda lahko spremenil, v funkciji zgoraj samo dam da vrača druge vrednosti "
   ]
  },
  {
   "cell_type": "markdown",
   "metadata": {},
   "source": [
    "### bonus vprašanje (5%):\n",
    "\n",
    "Kateri je tvoj najljubši film? Zakaj?"
   ]
  },
  {
   "cell_type": "markdown",
   "metadata": {},
   "source": [
    "Odgovor: **Moj najljubši film je Bladerunner 2049, ker je vizualno čudovit, in mi je zgoda tudi zelo zanimiva :D**"
   ]
  },
  {
   "cell_type": "markdown",
   "metadata": {},
   "source": [
    "## Zapiski\n",
    "Za nalaganje podatkov lahko uporabite vgrajen modul `csv`. Mapa s podatki `ml-latest-small` se v tem primeru mora nahajati v isti mapi kot notebook."
   ]
  },
  {
   "cell_type": "code",
   "execution_count": 16,
   "metadata": {},
   "outputs": [],
   "source": [
    "from csv import DictReader\n",
    "\n",
    "reader = DictReader(open('ml-latest-small/ratings.csv', 'rt', encoding='utf-8'))\n",
    "for row in reader:\n",
    "    user = row[\"userId\"]\n",
    "    movie = row[\"movieId\"]\n",
    "    rating = row[\"rating\"]\n",
    "    timestamp = row[\"timestamp\"]"
   ]
  },
  {
   "cell_type": "markdown",
   "metadata": {},
   "source": [
    "Podatki v zadnji vrstici datoteke:"
   ]
  },
  {
   "cell_type": "code",
   "execution_count": 17,
   "metadata": {},
   "outputs": [
    {
     "data": {
      "text/plain": [
       "('671', '6565', '3.5', '1074784724')"
      ]
     },
     "execution_count": 17,
     "metadata": {},
     "output_type": "execute_result"
    }
   ],
   "source": [
    "user, movie, rating, timestamp"
   ]
  },
  {
   "cell_type": "markdown",
   "metadata": {},
   "source": [
    "Pretvorba časovnega formata (*Unix time*). Kode za oblikovanje so navedene v dokumentaciji modula [`datetime`](https://docs.python.org/3/library/datetime.html#strftime-and-strptime-behavior)."
   ]
  },
  {
   "cell_type": "code",
   "execution_count": 18,
   "metadata": {},
   "outputs": [
    {
     "data": {
      "text/plain": [
       "'2008-08-05 02:56'"
      ]
     },
     "execution_count": 18,
     "metadata": {},
     "output_type": "execute_result"
    }
   ],
   "source": [
    "from datetime import datetime\n",
    "\n",
    "t = 1217897793 # Unix-time\n",
    "ts = datetime.fromtimestamp(t).strftime('%Y-%m-%d %H:%M')\n",
    "ts"
   ]
  }
 ],
 "metadata": {
  "kernelspec": {
   "display_name": "Python 3",
   "language": "python",
   "name": "python3"
  },
  "language_info": {
   "codemirror_mode": {
    "name": "ipython",
    "version": 3
   },
   "file_extension": ".py",
   "mimetype": "text/x-python",
   "name": "python",
   "nbconvert_exporter": "python",
   "pygments_lexer": "ipython3",
   "version": "3.6.4"
  },
  "latex_envs": {
   "LaTeX_envs_menu_present": true,
   "autocomplete": true,
   "bibliofile": "biblio.bib",
   "cite_by": "apalike",
   "current_citInitial": 1,
   "eqLabelWithNumbers": true,
   "eqNumInitial": 1,
   "hotkeys": {
    "equation": "Ctrl-E",
    "itemize": "Ctrl-I"
   },
   "labels_anchors": false,
   "latex_user_defs": false,
   "report_style_numbering": false,
   "user_envs_cfg": false
  },
  "nbTranslate": {
   "displayLangs": [
    "*"
   ],
   "hotkey": "alt-t",
   "langInMainMenu": true,
   "sourceLang": "en",
   "targetLang": "fr",
   "useGoogleTranslate": true
  }
 },
 "nbformat": 4,
 "nbformat_minor": 2
}
